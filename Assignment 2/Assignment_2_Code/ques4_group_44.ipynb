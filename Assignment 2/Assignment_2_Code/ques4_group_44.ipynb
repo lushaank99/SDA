{
 "cells": [
  {
   "cell_type": "code",
   "execution_count": 12,
   "metadata": {},
   "outputs": [],
   "source": [
    "from scipy import stats\n",
    "import numpy as np\n",
    "import random\n",
    "from matplotlib import pyplot as plt \n",
    "import math"
   ]
  },
  {
   "cell_type": "code",
   "execution_count": 13,
   "metadata": {},
   "outputs": [],
   "source": [
    "mu = [0, 0, 0]\n",
    "sig = [[1, 0, 0], [0, 1, 0], [0, 0, 1]]"
   ]
  },
  {
   "cell_type": "code",
   "execution_count": 14,
   "metadata": {},
   "outputs": [],
   "source": [
    "def multi_normal(x):\n",
    "    r = np.subtract(x, mu)\n",
    "    a = (1/math.sqrt(math.pow(2*math.pi, 3))*math.sqrt(np.linalg.det(sig)))*math.exp(-1/2*r.transpose()*np.linalg.inv(sig)*r)\n",
    "    return a"
   ]
  },
  {
   "cell_type": "code",
   "execution_count": 15,
   "metadata": {},
   "outputs": [],
   "source": [
    "x = np.random.multivariate_normal(mu, sig, 100)\n",
    "y = np.random.normal(0, 1, 100)"
   ]
  },
  {
   "cell_type": "code",
   "execution_count": 16,
   "metadata": {},
   "outputs": [],
   "source": [
    "x_100 = []\n",
    "for i in range(1,101):\n",
    "    x_100.append(np.percentile(x, i))\n",
    "\n",
    "y_100 = []\n",
    "for i in range(1,101):\n",
    "    y_100.append(np.percentile(y, i))"
   ]
  },
  {
   "cell_type": "code",
   "execution_count": 17,
   "metadata": {},
   "outputs": [
    {
     "data": {
      "image/png": "[encoded data removed]",
      "text/plain": [
       "<Figure size 432x288 with 1 Axes>"
      ]
     },
     "metadata": {
      "needs_background": "light"
     },
     "output_type": "display_data"
    }
   ],
   "source": [
    "plt.scatter(x_100, y_100)\n",
    "plt.plot(x_100, x_100, color=\"red\")\n",
    "plt.grid()\n",
    "plt.ylabel(\"Y - normal distribution\")\n",
    "plt.xlabel(\"X - multivariate normal distribution\")\n",
    "plt.show()"
   ]
  },
  {
   "cell_type": "code",
   "execution_count": 23,
   "metadata": {},
   "outputs": [],
   "source": [
    "def shapiro_test(x):\n",
    "    w= stats.shapiro(x)\n",
    "    return w"
   ]
  },
  {
   "cell_type": "code",
   "execution_count": 25,
   "metadata": {},
   "outputs": [
    {
     "name": "stdout",
     "output_type": "stream",
     "text": [
      "We can say that Null Hypothesis couldn't be rejected and it is a normal distribution.\n"
     ]
    }
   ],
   "source": [
    "w1 = shapiro_test(x)\n",
    "if w2[1] > 0.05:\n",
    "    print(\"We can say that Null Hypothesis couldn't be rejected and it is a normal distribution.\")\n",
    "else:\n",
    "    print(\"Null Hypothesis is rejected and it isn't normal distribution.\")"
   ]
  },
  {
   "cell_type": "code",
   "execution_count": 41,
   "metadata": {},
   "outputs": [
    {
     "name": "stdout",
     "output_type": "stream",
     "text": [
      "We can say that Null Hypothesis couldn't be rejected and it is a normal distribution.\n"
     ]
    }
   ],
   "source": [
    "w2 = stats.normaltest(x)\n",
    "np.square(w2[1])\n",
    "dist = math.sqrt(np.sum(w2[1]))\n",
    "if dist > 0.05:\n",
    "    print(\"We can say that Null Hypothesis couldn't be rejected and it is a normal distribution.\")\n",
    "else:\n",
    "    print(\"Null Hypothesis is rejected and it isn't normal distribution.\")\n"
   ]
  }
 ],
 "metadata": {
  "kernelspec": {
   "display_name": "Python 3",
   "language": "python",
   "name": "python3"
  },
  "language_info": {
   "codemirror_mode": {
    "name": "ipython",
    "version": 3
   },
   "file_extension": ".py",
   "mimetype": "text/x-python",
   "name": "python",
   "nbconvert_exporter": "python",
   "pygments_lexer": "ipython3",
   "version": "3.7.3"
  }
 },
 "nbformat": 4,
 "nbformat_minor": 2
}
